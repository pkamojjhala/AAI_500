{
 "cells": [
  {
   "cell_type": "code",
   "execution_count": 2,
   "metadata": {},
   "outputs": [
    {
     "data": {
      "text/html": [
       "<div>\n",
       "<style scoped>\n",
       "    .dataframe tbody tr th:only-of-type {\n",
       "        vertical-align: middle;\n",
       "    }\n",
       "\n",
       "    .dataframe tbody tr th {\n",
       "        vertical-align: top;\n",
       "    }\n",
       "\n",
       "    .dataframe thead th {\n",
       "        text-align: right;\n",
       "    }\n",
       "</style>\n",
       "<table border=\"1\" class=\"dataframe\">\n",
       "  <thead>\n",
       "    <tr style=\"text-align: right;\">\n",
       "      <th></th>\n",
       "      <th>Year</th>\n",
       "      <th>USD/CAD</th>\n",
       "      <th>diff</th>\n",
       "      <th>USD Perform better than CAD</th>\n",
       "    </tr>\n",
       "  </thead>\n",
       "  <tbody>\n",
       "    <tr>\n",
       "      <th>0</th>\n",
       "      <td>2000</td>\n",
       "      <td>1.485280</td>\n",
       "      <td>1.570885</td>\n",
       "      <td>True</td>\n",
       "    </tr>\n",
       "    <tr>\n",
       "      <th>1</th>\n",
       "      <td>2001</td>\n",
       "      <td>1.547925</td>\n",
       "      <td>-0.062645</td>\n",
       "      <td>False</td>\n",
       "    </tr>\n",
       "    <tr>\n",
       "      <th>2</th>\n",
       "      <td>2002</td>\n",
       "      <td>1.570885</td>\n",
       "      <td>-0.022960</td>\n",
       "      <td>False</td>\n",
       "    </tr>\n",
       "    <tr>\n",
       "      <th>3</th>\n",
       "      <td>2003</td>\n",
       "      <td>1.395450</td>\n",
       "      <td>0.175435</td>\n",
       "      <td>True</td>\n",
       "    </tr>\n",
       "    <tr>\n",
       "      <th>4</th>\n",
       "      <td>2004</td>\n",
       "      <td>1.300730</td>\n",
       "      <td>0.094720</td>\n",
       "      <td>True</td>\n",
       "    </tr>\n",
       "    <tr>\n",
       "      <th>5</th>\n",
       "      <td>2005</td>\n",
       "      <td>1.210707</td>\n",
       "      <td>0.090023</td>\n",
       "      <td>True</td>\n",
       "    </tr>\n",
       "    <tr>\n",
       "      <th>6</th>\n",
       "      <td>2006</td>\n",
       "      <td>1.134390</td>\n",
       "      <td>0.076317</td>\n",
       "      <td>True</td>\n",
       "    </tr>\n",
       "    <tr>\n",
       "      <th>7</th>\n",
       "      <td>2007</td>\n",
       "      <td>1.074387</td>\n",
       "      <td>0.060003</td>\n",
       "      <td>True</td>\n",
       "    </tr>\n",
       "    <tr>\n",
       "      <th>8</th>\n",
       "      <td>2008</td>\n",
       "      <td>1.065788</td>\n",
       "      <td>0.008599</td>\n",
       "      <td>True</td>\n",
       "    </tr>\n",
       "    <tr>\n",
       "      <th>9</th>\n",
       "      <td>2009</td>\n",
       "      <td>1.141433</td>\n",
       "      <td>-0.075645</td>\n",
       "      <td>False</td>\n",
       "    </tr>\n",
       "    <tr>\n",
       "      <th>10</th>\n",
       "      <td>2010</td>\n",
       "      <td>1.030533</td>\n",
       "      <td>0.110900</td>\n",
       "      <td>True</td>\n",
       "    </tr>\n",
       "    <tr>\n",
       "      <th>11</th>\n",
       "      <td>2011</td>\n",
       "      <td>0.989323</td>\n",
       "      <td>0.041210</td>\n",
       "      <td>True</td>\n",
       "    </tr>\n",
       "    <tr>\n",
       "      <th>12</th>\n",
       "      <td>2012</td>\n",
       "      <td>0.999997</td>\n",
       "      <td>-0.010674</td>\n",
       "      <td>False</td>\n",
       "    </tr>\n",
       "    <tr>\n",
       "      <th>13</th>\n",
       "      <td>2013</td>\n",
       "      <td>1.030084</td>\n",
       "      <td>-0.030087</td>\n",
       "      <td>False</td>\n",
       "    </tr>\n",
       "    <tr>\n",
       "      <th>14</th>\n",
       "      <td>2014</td>\n",
       "      <td>1.104347</td>\n",
       "      <td>-0.074263</td>\n",
       "      <td>False</td>\n",
       "    </tr>\n",
       "    <tr>\n",
       "      <th>15</th>\n",
       "      <td>2015</td>\n",
       "      <td>1.279163</td>\n",
       "      <td>-0.174816</td>\n",
       "      <td>False</td>\n",
       "    </tr>\n",
       "    <tr>\n",
       "      <th>16</th>\n",
       "      <td>2016</td>\n",
       "      <td>1.325521</td>\n",
       "      <td>-0.046358</td>\n",
       "      <td>False</td>\n",
       "    </tr>\n",
       "    <tr>\n",
       "      <th>17</th>\n",
       "      <td>2017</td>\n",
       "      <td>1.297846</td>\n",
       "      <td>0.027675</td>\n",
       "      <td>True</td>\n",
       "    </tr>\n",
       "    <tr>\n",
       "      <th>18</th>\n",
       "      <td>2018</td>\n",
       "      <td>1.296654</td>\n",
       "      <td>0.001192</td>\n",
       "      <td>True</td>\n",
       "    </tr>\n",
       "    <tr>\n",
       "      <th>19</th>\n",
       "      <td>2019</td>\n",
       "      <td>1.327074</td>\n",
       "      <td>-0.030420</td>\n",
       "      <td>False</td>\n",
       "    </tr>\n",
       "    <tr>\n",
       "      <th>20</th>\n",
       "      <td>2020</td>\n",
       "      <td>1.340771</td>\n",
       "      <td>-0.013697</td>\n",
       "      <td>False</td>\n",
       "    </tr>\n",
       "    <tr>\n",
       "      <th>21</th>\n",
       "      <td>2021</td>\n",
       "      <td>1.253745</td>\n",
       "      <td>0.087026</td>\n",
       "      <td>True</td>\n",
       "    </tr>\n",
       "    <tr>\n",
       "      <th>22</th>\n",
       "      <td>2022</td>\n",
       "      <td>1.301232</td>\n",
       "      <td>-0.047487</td>\n",
       "      <td>False</td>\n",
       "    </tr>\n",
       "  </tbody>\n",
       "</table>\n",
       "</div>"
      ],
      "text/plain": [
       "    Year   USD/CAD      diff  USD Perform better than CAD\n",
       "0   2000  1.485280  1.570885                         True\n",
       "1   2001  1.547925 -0.062645                        False\n",
       "2   2002  1.570885 -0.022960                        False\n",
       "3   2003  1.395450  0.175435                         True\n",
       "4   2004  1.300730  0.094720                         True\n",
       "5   2005  1.210707  0.090023                         True\n",
       "6   2006  1.134390  0.076317                         True\n",
       "7   2007  1.074387  0.060003                         True\n",
       "8   2008  1.065788  0.008599                         True\n",
       "9   2009  1.141433 -0.075645                        False\n",
       "10  2010  1.030533  0.110900                         True\n",
       "11  2011  0.989323  0.041210                         True\n",
       "12  2012  0.999997 -0.010674                        False\n",
       "13  2013  1.030084 -0.030087                        False\n",
       "14  2014  1.104347 -0.074263                        False\n",
       "15  2015  1.279163 -0.174816                        False\n",
       "16  2016  1.325521 -0.046358                        False\n",
       "17  2017  1.297846  0.027675                         True\n",
       "18  2018  1.296654  0.001192                         True\n",
       "19  2019  1.327074 -0.030420                        False\n",
       "20  2020  1.340771 -0.013697                        False\n",
       "21  2021  1.253745  0.087026                         True\n",
       "22  2022  1.301232 -0.047487                        False"
      ]
     },
     "execution_count": 2,
     "metadata": {},
     "output_type": "execute_result"
    }
   ],
   "source": [
    "import pandas as pd\n",
    "\n",
    "currency = pd.read_csv('USDvsCAD.csv')\n",
    "currency"
   ]
  },
  {
   "cell_type": "code",
   "execution_count": 3,
   "metadata": {},
   "outputs": [
    {
     "data": {
      "text/plain": [
       "2000    2.837\n",
       "2001    2.488\n",
       "2002    1.882\n",
       "2003    1.585\n",
       "2004    1.656\n",
       "2005    1.674\n",
       "2006    1.861\n",
       "2007    1.534\n",
       "2008    0.500\n",
       "2009   -0.794\n",
       "2010   -1.455\n",
       "2011   -1.312\n",
       "2012   -0.677\n",
       "2013   -0.232\n",
       "2014    0.855\n",
       "2015    1.665\n",
       "2016    2.169\n",
       "2017    2.071\n",
       "2018    1.941\n",
       "2019    2.021\n",
       "2020    1.602\n",
       "2021    2.178\n",
       "2022    1.630\n",
       "dtype: float64"
      ]
     },
     "execution_count": 3,
     "metadata": {},
     "output_type": "execute_result"
    }
   ],
   "source": [
    "unemployment = pd.read_csv('unemployment.csv').drop(['Country Name'], axis=1)\n",
    "df = unemployment.transpose()\n",
    "df.columns = ['canada', 'usa']\n",
    "df['canada'] = df['canada'].astype(float)\n",
    "df['usa'] = df['usa'].astype(float)\n",
    "unemploy_diff = df['canada'].subtract(df['usa']).T\n",
    "unemploy_diff\n"
   ]
  },
  {
   "cell_type": "code",
   "execution_count": 4,
   "metadata": {},
   "outputs": [
    {
     "name": "stdout",
     "output_type": "stream",
     "text": [
      "[[1.         0.26925626]\n",
      " [0.26925626 1.        ]]\n"
     ]
    },
    {
     "data": {
      "image/png": "[encoded data removed]",
      "text/plain": [
       "<Figure size 640x480 with 1 Axes>"
      ]
     },
     "metadata": {},
     "output_type": "display_data"
    }
   ],
   "source": [
    "import numpy as np\n",
    "import matplotlib.pyplot as plt\n",
    "print(np.corrcoef(unemploy_diff, currency['diff']))\n",
    "plt.scatter(df['canada'], df['usa'])\n",
    "plt.show()"
   ]
  },
  {
   "cell_type": "code",
   "execution_count": 5,
   "metadata": {},
   "outputs": [
    {
     "data": {
      "text/html": [
       "<div>\n",
       "<style scoped>\n",
       "    .dataframe tbody tr th:only-of-type {\n",
       "        vertical-align: middle;\n",
       "    }\n",
       "\n",
       "    .dataframe tbody tr th {\n",
       "        vertical-align: top;\n",
       "    }\n",
       "\n",
       "    .dataframe thead th {\n",
       "        text-align: right;\n",
       "    }\n",
       "</style>\n",
       "<table border=\"1\" class=\"dataframe\">\n",
       "  <thead>\n",
       "    <tr style=\"text-align: right;\">\n",
       "      <th></th>\n",
       "      <th>2000</th>\n",
       "      <th>2001</th>\n",
       "      <th>2002</th>\n",
       "      <th>2003</th>\n",
       "      <th>2004</th>\n",
       "      <th>2005</th>\n",
       "      <th>2006</th>\n",
       "      <th>2007</th>\n",
       "      <th>2008</th>\n",
       "      <th>2009</th>\n",
       "      <th>...</th>\n",
       "      <th>2013</th>\n",
       "      <th>2014</th>\n",
       "      <th>2015</th>\n",
       "      <th>2016</th>\n",
       "      <th>2017</th>\n",
       "      <th>2018</th>\n",
       "      <th>2019</th>\n",
       "      <th>2020</th>\n",
       "      <th>2021</th>\n",
       "      <th>2022</th>\n",
       "    </tr>\n",
       "  </thead>\n",
       "  <tbody>\n",
       "    <tr>\n",
       "      <th>0</th>\n",
       "      <td>61.269</td>\n",
       "      <td>61.151</td>\n",
       "      <td>61.739</td>\n",
       "      <td>62.446</td>\n",
       "      <td>62.637</td>\n",
       "      <td>62.601</td>\n",
       "      <td>62.677</td>\n",
       "      <td>63.286</td>\n",
       "      <td>63.317</td>\n",
       "      <td>61.414</td>\n",
       "      <td>...</td>\n",
       "      <td>61.715</td>\n",
       "      <td>61.358</td>\n",
       "      <td>61.264</td>\n",
       "      <td>61.084</td>\n",
       "      <td>61.532</td>\n",
       "      <td>61.59</td>\n",
       "      <td>61.971</td>\n",
       "      <td>57.836</td>\n",
       "      <td>60.170</td>\n",
       "      <td>61.568</td>\n",
       "    </tr>\n",
       "    <tr>\n",
       "      <th>1</th>\n",
       "      <td>63.297</td>\n",
       "      <td>62.519</td>\n",
       "      <td>61.548</td>\n",
       "      <td>61.066</td>\n",
       "      <td>61.164</td>\n",
       "      <td>61.516</td>\n",
       "      <td>61.921</td>\n",
       "      <td>61.752</td>\n",
       "      <td>61.005</td>\n",
       "      <td>58.200</td>\n",
       "      <td>...</td>\n",
       "      <td>57.845</td>\n",
       "      <td>58.351</td>\n",
       "      <td>58.785</td>\n",
       "      <td>59.181</td>\n",
       "      <td>59.590</td>\n",
       "      <td>59.94</td>\n",
       "      <td>60.329</td>\n",
       "      <td>56.380</td>\n",
       "      <td>57.946</td>\n",
       "      <td>59.266</td>\n",
       "    </tr>\n",
       "  </tbody>\n",
       "</table>\n",
       "<p>2 rows × 23 columns</p>\n",
       "</div>"
      ],
      "text/plain": [
       "     2000    2001    2002    2003    2004    2005    2006    2007    2008  \\\n",
       "0  61.269  61.151  61.739  62.446  62.637  62.601  62.677  63.286  63.317   \n",
       "1  63.297  62.519  61.548  61.066  61.164  61.516  61.921  61.752  61.005   \n",
       "\n",
       "     2009  ...    2013    2014    2015    2016    2017   2018    2019    2020  \\\n",
       "0  61.414  ...  61.715  61.358  61.264  61.084  61.532  61.59  61.971  57.836   \n",
       "1  58.200  ...  57.845  58.351  58.785  59.181  59.590  59.94  60.329  56.380   \n",
       "\n",
       "     2021    2022  \n",
       "0  60.170  61.568  \n",
       "1  57.946  59.266  \n",
       "\n",
       "[2 rows x 23 columns]"
      ]
     },
     "execution_count": 5,
     "metadata": {},
     "output_type": "execute_result"
    }
   ],
   "source": [
    "employment = pd.read_csv('Employment.csv').drop(['Country Name'], axis=1)\n",
    "employment"
   ]
  },
  {
   "cell_type": "code",
   "execution_count": 6,
   "metadata": {},
   "outputs": [
    {
     "data": {
      "text/plain": [
       "2000   -2.028\n",
       "2001   -1.368\n",
       "2002    0.191\n",
       "2003    1.380\n",
       "2004    1.473\n",
       "2005    1.085\n",
       "2006    0.756\n",
       "2007    1.534\n",
       "2008    2.312\n",
       "2009    3.214\n",
       "2010    4.068\n",
       "2011    4.287\n",
       "2012    3.834\n",
       "2013    3.870\n",
       "2014    3.007\n",
       "2015    2.479\n",
       "2016    1.903\n",
       "2017    1.942\n",
       "2018    1.650\n",
       "2019    1.642\n",
       "2020    1.456\n",
       "2021    2.224\n",
       "2022    2.302\n",
       "dtype: float64"
      ]
     },
     "execution_count": 6,
     "metadata": {},
     "output_type": "execute_result"
    }
   ],
   "source": [
    "df2 = employment.transpose()\n",
    "df2.columns = ['canada', 'usa']\n",
    "df2['canada'] = df2['canada'].astype(float)\n",
    "df2['usa'] = df2['usa'].astype(float)\n",
    "employ_diff = df2['canada'].subtract(df2['usa']).T\n",
    "employ_diff"
   ]
  },
  {
   "cell_type": "code",
   "execution_count": 7,
   "metadata": {},
   "outputs": [
    {
     "name": "stdout",
     "output_type": "stream",
     "text": [
      "[[ 1.         -0.53902251]\n",
      " [-0.53902251  1.        ]]\n"
     ]
    },
    {
     "data": {
      "image/png": "[encoded data removed]",
      "text/plain": [
       "<Figure size 640x480 with 1 Axes>"
      ]
     },
     "metadata": {},
     "output_type": "display_data"
    }
   ],
   "source": [
    "print(np.corrcoef(employ_diff, currency['diff']))\n",
    "plt.scatter(df2['canada'], df2['usa'])\n",
    "plt.show()"
   ]
  },
  {
   "cell_type": "code",
   "execution_count": 29,
   "metadata": {},
   "outputs": [
    {
     "data": {
      "image/png": "[encoded data removed]",
      "text/plain": [
       "<Figure size 640x480 with 1 Axes>"
      ]
     },
     "metadata": {},
     "output_type": "display_data"
    }
   ],
   "source": [
    "plt.scatter(currency['Year'], employ_diff )\n",
    "plt.title('Employment rate difference vs Year')\n",
    "plt.xlabel('Year')\n",
    "plt.ylabel('Employment rate %')\n",
    "plt.show()"
   ]
  },
  {
   "cell_type": "code",
   "execution_count": 28,
   "metadata": {},
   "outputs": [
    {
     "data": {
      "image/png": "[encoded data removed]",
      "text/plain": [
       "<Figure size 640x480 with 1 Axes>"
      ]
     },
     "metadata": {},
     "output_type": "display_data"
    }
   ],
   "source": [
    "plt.scatter(currency['Year'], unemploy_diff )\n",
    "plt.title('Unemployment rate difference vs Year')\n",
    "plt.xlabel('Year')\n",
    "plt.ylabel('Unemployment rate %')\n",
    "plt.show()"
   ]
  },
  {
   "cell_type": "code",
   "execution_count": 30,
   "metadata": {},
   "outputs": [
    {
     "data": {
      "image/png": "[encoded data removed]",
      "text/plain": [
       "<Figure size 640x480 with 1 Axes>"
      ]
     },
     "metadata": {},
     "output_type": "display_data"
    }
   ],
   "source": [
    "plt.scatter(currency['Year'], currency['diff'])\n",
    "plt.title('Exchange rate difference vs Year')\n",
    "plt.xlabel('Year')\n",
    "plt.ylabel('Exchange rate')\n",
    "plt.show()"
   ]
  },
  {
   "cell_type": "code",
   "execution_count": 22,
   "metadata": {},
   "outputs": [],
   "source": [
    "Data = {\n",
    "    'exchange': currency['diff'],\n",
    "    'unemploy': unemploy_diff.reset_index()[0],\n",
    "    'employ': employ_diff.reset_index()[0],\n",
    "}\n",
    "regression_data = pd.DataFrame(Data)"
   ]
  },
  {
   "cell_type": "code",
   "execution_count": 12,
   "metadata": {},
   "outputs": [
    {
     "name": "stdout",
     "output_type": "stream",
     "text": [
      "[[ 1.         -0.53902251]\n",
      " [-0.53902251  1.        ]]\n",
      "[[1.         0.26925626]\n",
      " [0.26925626 1.        ]]\n"
     ]
    },
    {
     "data": {
      "image/png": "[encoded data removed]",
      "text/plain": [
       "<Figure size 750x750 with 12 Axes>"
      ]
     },
     "metadata": {},
     "output_type": "display_data"
    }
   ],
   "source": [
    "import seaborn as sns\n",
    "import statsmodels.formula.api as smf\n",
    "sns.set_style(style='ticks')\n",
    "sns.pairplot(regression_data)\n",
    "print(np.corrcoef(regression_data['exchange'], regression_data['employ']))\n",
    "print(np.corrcoef(regression_data['exchange'], regression_data['unemploy']))\n",
    "plt.show()\n"
   ]
  },
  {
   "cell_type": "code",
   "execution_count": 23,
   "metadata": {},
   "outputs": [
    {
     "name": "stdout",
     "output_type": "stream",
     "text": [
      "                            OLS Regression Results                            \n",
      "==============================================================================\n",
      "Dep. Variable:               exchange   R-squared:                       0.291\n",
      "Model:                            OLS   Adj. R-squared:                  0.257\n",
      "Method:                 Least Squares   F-statistic:                     8.600\n",
      "Date:                Sat, 22 Jun 2024   Prob (F-statistic):            0.00795\n",
      "Time:                        07:29:46   Log-Likelihood:                -3.0110\n",
      "No. Observations:                  23   AIC:                             10.02\n",
      "Df Residuals:                      21   BIC:                             12.29\n",
      "Df Model:                           1                                         \n",
      "Covariance Type:            nonrobust                                         \n",
      "==============================================================================\n",
      "                 coef    std err          t      P>|t|      [0.025      0.975]\n",
      "------------------------------------------------------------------------------\n",
      "Intercept      0.2934      0.095      3.075      0.006       0.095       0.492\n",
      "employ        -0.1156      0.039     -2.933      0.008      -0.198      -0.034\n",
      "==============================================================================\n",
      "Omnibus:                       27.334   Durbin-Watson:                   1.607\n",
      "Prob(Omnibus):                  0.000   Jarque-Bera (JB):               57.871\n",
      "Skew:                           2.070   Prob(JB):                     2.71e-13\n",
      "Kurtosis:                       9.576   Cond. No.                         4.26\n",
      "==============================================================================\n",
      "\n",
      "Notes:\n",
      "[1] Standard Errors assume that the covariance matrix of the errors is correctly specified.\n"
     ]
    }
   ],
   "source": [
    "\n",
    "employ_regression = smf.ols(formula='exchange ~ employ', data=regression_data).fit()\n",
    "print(employ_regression.summary())"
   ]
  },
  {
   "cell_type": "code",
   "execution_count": 24,
   "metadata": {},
   "outputs": [
    {
     "name": "stdout",
     "output_type": "stream",
     "text": [
      "                            OLS Regression Results                            \n",
      "==============================================================================\n",
      "Dep. Variable:               exchange   R-squared:                       0.072\n",
      "Model:                            OLS   Adj. R-squared:                  0.028\n",
      "Method:                 Least Squares   F-statistic:                     1.641\n",
      "Date:                Sat, 22 Jun 2024   Prob (F-statistic):              0.214\n",
      "Time:                        07:29:52   Log-Likelihood:                -6.0929\n",
      "No. Observations:                  23   AIC:                             16.19\n",
      "Df Residuals:                      21   BIC:                             18.46\n",
      "Df Model:                           1                                         \n",
      "Covariance Type:            nonrobust                                         \n",
      "==============================================================================\n",
      "                 coef    std err          t      P>|t|      [0.025      0.975]\n",
      "------------------------------------------------------------------------------\n",
      "Intercept     -0.0111      0.097     -0.115      0.910      -0.213       0.190\n",
      "unemploy       0.0726      0.057      1.281      0.214      -0.045       0.191\n",
      "==============================================================================\n",
      "Omnibus:                       46.967   Durbin-Watson:                   1.222\n",
      "Prob(Omnibus):                  0.000   Jarque-Bera (JB):              205.930\n",
      "Skew:                           3.547   Prob(JB):                     1.92e-45\n",
      "Kurtosis:                      15.828   Cond. No.                         2.88\n",
      "==============================================================================\n",
      "\n",
      "Notes:\n",
      "[1] Standard Errors assume that the covariance matrix of the errors is correctly specified.\n"
     ]
    }
   ],
   "source": [
    "unemploy_regression = smf.ols(formula='exchange ~ unemploy', data=regression_data).fit()\n",
    "print(unemploy_regression.summary())"
   ]
  },
  {
   "cell_type": "code",
   "execution_count": 15,
   "metadata": {},
   "outputs": [
    {
     "name": "stdout",
     "output_type": "stream",
     "text": [
      "                            OLS Regression Results                            \n",
      "==============================================================================\n",
      "Dep. Variable:               exchange   R-squared:                       0.376\n",
      "Model:                            OLS   Adj. R-squared:                  0.314\n",
      "Method:                 Least Squares   F-statistic:                     6.032\n",
      "Date:                Sat, 22 Jun 2024   Prob (F-statistic):            0.00892\n",
      "Time:                        07:26:10   Log-Likelihood:                -1.5305\n",
      "No. Observations:                  23   AIC:                             9.061\n",
      "Df Residuals:                      20   BIC:                             12.47\n",
      "Df Model:                           2                                         \n",
      "Covariance Type:            nonrobust                                         \n",
      "==============================================================================\n",
      "                 coef    std err          t      P>|t|      [0.025      0.975]\n",
      "------------------------------------------------------------------------------\n",
      "Intercept      0.6229      0.219      2.846      0.010       0.166       1.079\n",
      "unemploy      -0.1361      0.082     -1.658      0.113      -0.307       0.035\n",
      "employ        -0.2037      0.065     -3.121      0.005      -0.340      -0.068\n",
      "==============================================================================\n",
      "Omnibus:                       18.661   Durbin-Watson:                   1.904\n",
      "Prob(Omnibus):                  0.000   Jarque-Bera (JB):               36.830\n",
      "Skew:                           1.255   Prob(JB):                     1.01e-08\n",
      "Kurtosis:                       8.669   Cond. No.                         10.8\n",
      "==============================================================================\n",
      "\n",
      "Notes:\n",
      "[1] Standard Errors assume that the covariance matrix of the errors is correctly specified.\n"
     ]
    }
   ],
   "source": [
    "unemploy_regression = smf.ols(formula='exchange ~ unemploy + employ', data=regression_data).fit()\n",
    "print(unemploy_regression.summary())"
   ]
  },
  {
   "cell_type": "code",
   "execution_count": 26,
   "metadata": {},
   "outputs": [
    {
     "name": "stdout",
     "output_type": "stream",
     "text": [
      "                            OLS Regression Results                            \n",
      "==============================================================================\n",
      "Dep. Variable:               exchange   R-squared:                       0.575\n",
      "Model:                            OLS   Adj. R-squared:                  0.508\n",
      "Method:                 Least Squares   F-statistic:                     8.559\n",
      "Date:                Sat, 22 Jun 2024   Prob (F-statistic):           0.000841\n",
      "Time:                        07:30:03   Log-Likelihood:                 2.8741\n",
      "No. Observations:                  23   AIC:                             2.252\n",
      "Df Residuals:                      19   BIC:                             6.794\n",
      "Df Model:                           3                                         \n",
      "Covariance Type:            nonrobust                                         \n",
      "===================================================================================\n",
      "                      coef    std err          t      P>|t|      [0.025      0.975]\n",
      "-----------------------------------------------------------------------------------\n",
      "Intercept          -0.5497      0.435     -1.263      0.222      -1.461       0.361\n",
      "unemploy            0.3902      0.190      2.054      0.054      -0.007       0.788\n",
      "employ              0.1309      0.125      1.045      0.309      -0.131       0.393\n",
      "unemploy:employ    -0.1193      0.040     -2.978      0.008      -0.203      -0.035\n",
      "==============================================================================\n",
      "Omnibus:                       13.003   Durbin-Watson:                   2.163\n",
      "Prob(Omnibus):                  0.002   Jarque-Bera (JB):               25.756\n",
      "Skew:                          -0.652   Prob(JB):                     2.55e-06\n",
      "Kurtosis:                       8.017   Cond. No.                         36.4\n",
      "==============================================================================\n",
      "\n",
      "Notes:\n",
      "[1] Standard Errors assume that the covariance matrix of the errors is correctly specified.\n"
     ]
    }
   ],
   "source": [
    "unemploy_regression = smf.ols(formula='exchange ~ unemploy + employ + unemploy:employ', data=regression_data).fit()\n",
    "print(unemploy_regression.summary())"
   ]
  },
  {
   "cell_type": "code",
   "execution_count": 17,
   "metadata": {},
   "outputs": [
    {
     "name": "stdout",
     "output_type": "stream",
     "text": [
      "                            OLS Regression Results                            \n",
      "==============================================================================\n",
      "Dep. Variable:               exchange   R-squared:                       0.291\n",
      "Model:                            OLS   Adj. R-squared:                  0.257\n",
      "Method:                 Least Squares   F-statistic:                     8.600\n",
      "Date:                Sat, 22 Jun 2024   Prob (F-statistic):            0.00795\n",
      "Time:                        07:26:11   Log-Likelihood:                -3.0110\n",
      "No. Observations:                  23   AIC:                             10.02\n",
      "Df Residuals:                      21   BIC:                             12.29\n",
      "Df Model:                           1                                         \n",
      "Covariance Type:            nonrobust                                         \n",
      "==============================================================================\n",
      "                 coef    std err          t      P>|t|      [0.025      0.975]\n",
      "------------------------------------------------------------------------------\n",
      "Intercept      0.2934      0.095      3.075      0.006       0.095       0.492\n",
      "employ        -0.1156      0.039     -2.933      0.008      -0.198      -0.034\n",
      "==============================================================================\n",
      "Omnibus:                       27.334   Durbin-Watson:                   1.607\n",
      "Prob(Omnibus):                  0.000   Jarque-Bera (JB):               57.871\n",
      "Skew:                           2.070   Prob(JB):                     2.71e-13\n",
      "Kurtosis:                       9.576   Cond. No.                         4.26\n",
      "==============================================================================\n",
      "\n",
      "Notes:\n",
      "[1] Standard Errors assume that the covariance matrix of the errors is correctly specified.\n"
     ]
    }
   ],
   "source": [
    "employ_regression = smf.ols(formula='exchange ~ employ', data=regression_data).fit()\n",
    "print(employ_regression.summary())"
   ]
  },
  {
   "cell_type": "code",
   "execution_count": null,
   "metadata": {},
   "outputs": [],
   "source": []
  }
 ],
 "metadata": {
  "kernelspec": {
   "display_name": "base",
   "language": "python",
   "name": "python3"
  },
  "language_info": {
   "codemirror_mode": {
    "name": "ipython",
    "version": 3
   },
   "file_extension": ".py",
   "mimetype": "text/x-python",
   "name": "python",
   "nbconvert_exporter": "python",
   "pygments_lexer": "ipython3",
   "version": "3.8.19"
  }
 },
 "nbformat": 4,
 "nbformat_minor": 2
}
